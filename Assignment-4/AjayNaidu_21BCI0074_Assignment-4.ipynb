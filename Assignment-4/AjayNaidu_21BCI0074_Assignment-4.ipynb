{
  "nbformat": 4,
  "nbformat_minor": 0,
  "metadata": {
    "colab": {
      "provenance": []
    },
    "kernelspec": {
      "name": "python3",
      "display_name": "Python 3"
    },
    "language_info": {
      "name": "python"
    }
  },
  "cells": [
    {
      "cell_type": "markdown",
      "source": [
        "**Name: Ajay Naidu**\n",
        "\n",
        "**Registration number: 21BCI0074**\n",
        "\n",
        "**University: VIT Vellore**\n",
        "\n",
        "\n",
        "#**Assignment 4**\n"
      ],
      "metadata": {
        "id": "w_eEF8zC_Bkl"
      }
    },
    {
      "cell_type": "markdown",
      "source": [
        "#**Import necessary libraries**"
      ],
      "metadata": {
        "id": "1eyN-QMa_JtK"
      }
    },
    {
      "cell_type": "code",
      "source": [
        "import pandas as pd\n",
        "import numpy as np\n",
        "from sklearn.model_selection import train_test_split\n",
        "from sklearn.preprocessing import LabelEncoder\n",
        "from sklearn.linear_model import LogisticRegression\n",
        "from sklearn.tree import DecisionTreeClassifier\n",
        "from sklearn.ensemble import RandomForestClassifier\n",
        "from sklearn.metrics import accuracy_score, classification_report, confusion_matrix"
      ],
      "metadata": {
        "id": "r7ldcCwx_t2d"
      },
      "execution_count": 3,
      "outputs": []
    },
    {
      "cell_type": "markdown",
      "source": [
        "#**Load the dataset**"
      ],
      "metadata": {
        "id": "1__oWIv3ABgK"
      }
    },
    {
      "cell_type": "code",
      "source": [
        "data = pd.read_csv('/WA_Fn-UseC_-HR-Employee-Attrition.csv')"
      ],
      "metadata": {
        "id": "AJyeiux6AMPd"
      },
      "execution_count": 4,
      "outputs": []
    },
    {
      "cell_type": "markdown",
      "source": [
        "#**Data Preprocessing**"
      ],
      "metadata": {
        "id": "tyIDDYYfAUwP"
      }
    },
    {
      "cell_type": "markdown",
      "source": [
        "#**Encode categorical variables**"
      ],
      "metadata": {
        "id": "dooJcOI3ApVl"
      }
    },
    {
      "cell_type": "code",
      "source": [
        "label_encoder = LabelEncoder()\n",
        "categorical_cols = ['Education', 'EnvironmentSatisfaction', 'JobInvolvement', 'JobSatisfaction',\n",
        "                    'PerformanceRating', 'RelationshipSatisfaction', 'WorkLifeBalance']\n",
        "for col in categorical_cols:\n",
        "    data[col] = label_encoder.fit_transform(data[col])"
      ],
      "metadata": {
        "id": "iykhlHxiAvMU"
      },
      "execution_count": 5,
      "outputs": []
    },
    {
      "cell_type": "markdown",
      "source": [
        "#**Split the data into features and target**"
      ],
      "metadata": {
        "id": "sOrJof92Az-2"
      }
    },
    {
      "cell_type": "code",
      "source": [
        "X = data.drop(columns=['Attrition'])\n",
        "y = data['Attrition']"
      ],
      "metadata": {
        "id": "4UIU0YBMA5hD"
      },
      "execution_count": 6,
      "outputs": []
    },
    {
      "cell_type": "markdown",
      "source": [
        "#**Split the data into training and testing sets**"
      ],
      "metadata": {
        "id": "uUaBPsPVA9tm"
      }
    },
    {
      "cell_type": "code",
      "source": [
        "X_train, X_test, y_train, y_test = train_test_split(X, y, test_size=0.2, random_state=42)"
      ],
      "metadata": {
        "id": "yAlPoMC7BCJN"
      },
      "execution_count": 7,
      "outputs": []
    },
    {
      "cell_type": "markdown",
      "source": [
        "#**Model Building using Logistic Regression:**"
      ],
      "metadata": {
        "id": "050UQjGwBGV4"
      }
    },
    {
      "cell_type": "code",
      "source": [
        "X_train_encoded = pd.get_dummies(X_train)\n",
        "X_test_encoded = pd.get_dummies(X_test)\n",
        "scaler = StandardScaler()\n",
        "X_train_scaled = scaler.fit_transform(X_train_encoded)\n",
        "X_test_scaled = scaler.transform(X_test_encoded)\n",
        "logistic_model = LogisticRegression(max_iter=1000)\n",
        "logistic_model.fit(X_train_scaled, y_train)\n",
        "logistic_pred = logistic_model.predict(X_test_scaled)\n"
      ],
      "metadata": {
        "id": "TDe1NqT7BRSO"
      },
      "execution_count": 13,
      "outputs": []
    },
    {
      "cell_type": "markdown",
      "source": [
        "#**Model Building using Decision Tree:**"
      ],
      "metadata": {
        "id": "jbAvzdDiCgEA"
      }
    },
    {
      "cell_type": "code",
      "source": [
        "X_train_encoded = pd.get_dummies(X_train)\n",
        "X_test_encoded = pd.get_dummies(X_test)\n",
        "decision_tree_model = DecisionTreeClassifier()\n",
        "decision_tree_model.fit(X_train_encoded, y_train)\n",
        "decision_tree_pred = decision_tree_model.predict(X_test_encoded)"
      ],
      "metadata": {
        "id": "alLaBH2XCiSb"
      },
      "execution_count": 15,
      "outputs": []
    },
    {
      "cell_type": "markdown",
      "source": [
        "#**Model Building using Random Forest:**"
      ],
      "metadata": {
        "id": "_1VmuwR5C1yV"
      }
    },
    {
      "cell_type": "code",
      "source": [
        "X_train_encoded = pd.get_dummies(X_train)\n",
        "X_test_encoded = pd.get_dummies(X_test)\n",
        "random_forest_model = RandomForestClassifier()\n",
        "random_forest_model.fit(X_train_encoded, y_train)\n",
        "random_forest_pred = random_forest_model.predict(X_test_encoded)"
      ],
      "metadata": {
        "id": "jkFhP6-ZC-DZ"
      },
      "execution_count": 16,
      "outputs": []
    },
    {
      "cell_type": "markdown",
      "source": [
        "#**Calculating Performance Metrics:**"
      ],
      "metadata": {
        "id": "bmVT8ifgDNpl"
      }
    },
    {
      "cell_type": "code",
      "source": [
        "from sklearn.metrics import accuracy_score, classification_report, confusion_matrix\n",
        "\n",
        "# Calculate Performance Metrics for Logistic Regression\n",
        "logistic_accuracy = accuracy_score(y_test, logistic_pred)\n",
        "logistic_report = classification_report(y_test, logistic_pred)\n",
        "logistic_confusion_matrix = confusion_matrix(y_test, logistic_pred)\n",
        "\n",
        "# Calculate Performance Metrics for Decision Tree\n",
        "decision_tree_accuracy = accuracy_score(y_test, decision_tree_pred)\n",
        "decision_tree_report = classification_report(y_test, decision_tree_pred)\n",
        "decision_tree_confusion_matrix = confusion_matrix(y_test, decision_tree_pred)\n",
        "\n",
        "# Calculate Performance Metrics for Random Forest\n",
        "random_forest_accuracy = accuracy_score(y_test, random_forest_pred)\n",
        "random_forest_report = classification_report(y_test, random_forest_pred)\n",
        "random_forest_confusion_matrix = confusion_matrix(y_test, random_forest_pred)\n",
        "\n",
        "# Print the performance metrics for each model\n",
        "print(\"Logistic Regression Accuracy:\", logistic_accuracy)\n",
        "print(\"Logistic Regression Classification Report:\\n\", logistic_report)\n",
        "print(\"Logistic Regression Confusion Matrix:\\n\", logistic_confusion_matrix)\n",
        "\n",
        "print(\"\\nDecision Tree Accuracy:\", decision_tree_accuracy)\n",
        "print(\"Decision Tree Classification Report:\\n\", decision_tree_report)\n",
        "print(\"Decision Tree Confusion Matrix:\\n\", decision_tree_confusion_matrix)\n",
        "\n",
        "print(\"\\nRandom Forest Accuracy:\", random_forest_accuracy)\n",
        "print(\"Random Forest Classification Report:\\n\", random_forest_report)\n",
        "print(\"Random Forest Confusion Matrix:\\n\", random_forest_confusion_matrix)\n"
      ],
      "metadata": {
        "colab": {
          "base_uri": "https://localhost:8080/"
        },
        "id": "oL-IEDU5DWH8",
        "outputId": "a1e7d859-1f2f-41a5-a23f-180541fccdff"
      },
      "execution_count": 17,
      "outputs": [
        {
          "output_type": "stream",
          "name": "stdout",
          "text": [
            "Logistic Regression Accuracy: 0.8843537414965986\n",
            "Logistic Regression Classification Report:\n",
            "               precision    recall  f1-score   support\n",
            "\n",
            "          No       0.92      0.95      0.93       255\n",
            "         Yes       0.58      0.46      0.51        39\n",
            "\n",
            "    accuracy                           0.88       294\n",
            "   macro avg       0.75      0.71      0.72       294\n",
            "weighted avg       0.88      0.88      0.88       294\n",
            "\n",
            "Logistic Regression Confusion Matrix:\n",
            " [[242  13]\n",
            " [ 21  18]]\n",
            "\n",
            "Decision Tree Accuracy: 0.782312925170068\n",
            "Decision Tree Classification Report:\n",
            "               precision    recall  f1-score   support\n",
            "\n",
            "          No       0.88      0.87      0.87       255\n",
            "         Yes       0.21      0.23      0.22        39\n",
            "\n",
            "    accuracy                           0.78       294\n",
            "   macro avg       0.54      0.55      0.55       294\n",
            "weighted avg       0.79      0.78      0.79       294\n",
            "\n",
            "Decision Tree Confusion Matrix:\n",
            " [[221  34]\n",
            " [ 30   9]]\n",
            "\n",
            "Random Forest Accuracy: 0.8741496598639455\n",
            "Random Forest Classification Report:\n",
            "               precision    recall  f1-score   support\n",
            "\n",
            "          No       0.88      0.99      0.93       255\n",
            "         Yes       0.67      0.10      0.18        39\n",
            "\n",
            "    accuracy                           0.87       294\n",
            "   macro avg       0.77      0.55      0.55       294\n",
            "weighted avg       0.85      0.87      0.83       294\n",
            "\n",
            "Random Forest Confusion Matrix:\n",
            " [[253   2]\n",
            " [ 35   4]]\n"
          ]
        }
      ]
    }
  ]
}